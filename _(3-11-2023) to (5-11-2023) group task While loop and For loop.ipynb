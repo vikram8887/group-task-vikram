{
 "cells": [
  {
   "cell_type": "markdown",
   "id": "0534fae5",
   "metadata": {},
   "source": [
    "# 1.)  Sum of Resistance in Series Circuits"
   ]
  },
  {
   "cell_type": "markdown",
   "id": "41b6742f",
   "metadata": {},
   "source": [
    "#### When resistors are connected together in series, the same current passes through each resistor in the chain and the total resistance, RT, of the circuit must be equal to the sum of all the individual resistors added together. That is:"
   ]
  },
  {
   "cell_type": "markdown",
   "id": "16d591ec",
   "metadata": {},
   "source": [
    "#####  While loop"
   ]
  },
  {
   "cell_type": "code",
   "execution_count": 1,
   "id": "9b4194a0",
   "metadata": {},
   "outputs": [
    {
     "name": "stdout",
     "output_type": "stream",
     "text": [
      "Enter the number of resistors: 5\n",
      "Enter the resistance of resistor 1 in ohms: 4\n",
      "Enter the resistance of resistor 2 in ohms: 4\n",
      "Enter the resistance of resistor 3 in ohms: 3\n",
      "Enter the resistance of resistor 4 in ohms: 3\n",
      "Enter the resistance of resistor 5 in ohms: 3\n",
      "The total resistance in the series circuit is 17.0 ohms.\n"
     ]
    }
   ],
   "source": [
    "total_resistance = 0\n",
    "count = 0\n",
    "\n",
    "                                                  # Input the number of resistors in the series circuit\n",
    "n = int(input(\"Enter the number of resistors: \"))\n",
    "\n",
    "while count < n:\n",
    "    resistance = float(input(f\"Enter the resistance of resistor {count + 1} in ohms: \"))\n",
    "    total_resistance += resistance\n",
    "    count += 1\n",
    "\n",
    "print(f\"The total resistance in the series circuit is {total_resistance} ohms.\")"
   ]
  },
  {
   "cell_type": "markdown",
   "id": "3523d3cf",
   "metadata": {},
   "source": [
    "##### For loop"
   ]
  },
  {
   "cell_type": "code",
   "execution_count": 2,
   "id": "11313552",
   "metadata": {},
   "outputs": [
    {
     "name": "stdout",
     "output_type": "stream",
     "text": [
      "Enter the number of resistors: 6\n",
      "Enter the resistance of resistor 1 in ohms: 5\n",
      "Enter the resistance of resistor 2 in ohms: 5\n",
      "Enter the resistance of resistor 3 in ohms: 4\n",
      "Enter the resistance of resistor 4 in ohms: 4\n",
      "Enter the resistance of resistor 5 in ohms: 4\n",
      "Enter the resistance of resistor 6 in ohms: 4\n",
      "The total resistance in the series circuit is 26.0 ohms.\n"
     ]
    }
   ],
   "source": [
    "total_resistance = 0\n",
    "\n",
    "                                                        # Input the number of resistors in the series circuit\n",
    "n = int(input(\"Enter the number of resistors: \"))\n",
    "\n",
    "for i in range(n):\n",
    "    resistance = float(input(f\"Enter the resistance of resistor {i + 1} in ohms: \"))\n",
    "    total_resistance += resistance\n",
    "\n",
    "print(f\"The total resistance in the series circuit is {total_resistance} ohms.\")"
   ]
  },
  {
   "cell_type": "markdown",
   "id": "dc21135d",
   "metadata": {},
   "source": [
    "# 2.)  Instant JAZZ"
   ]
  },
  {
   "cell_type": "markdown",
   "id": "a56ed19a",
   "metadata": {},
   "source": [
    "### Create a function which concatenates the number 7 to the end of every chord in a list. Ignore all chords which already end with 7."
   ]
  },
  {
   "cell_type": "markdown",
   "id": "6385c6d5",
   "metadata": {},
   "source": [
    "##### For loop"
   ]
  },
  {
   "cell_type": "code",
   "execution_count": 3,
   "id": "07be5114",
   "metadata": {},
   "outputs": [
    {
     "name": "stdout",
     "output_type": "stream",
     "text": [
      "['Cmaj7', 'D7', 'Gm7', 'Am7']\n"
     ]
    }
   ],
   "source": [
    "                                                            # Sample list of chords\n",
    "chords = [\"Cmaj7\", \"D7\", \"Gm7\", \"Am\"]\n",
    "\n",
    "                                                       # Concatenate 7 to chords that don't already end with 7\n",
    "for i in range(len(chords)):\n",
    "    if not chords[i].endswith(\"7\"):\n",
    "        chords[i] += \"7\"\n",
    "\n",
    "print(chords)"
   ]
  },
  {
   "cell_type": "markdown",
   "id": "67561a73",
   "metadata": {},
   "source": [
    "##### While loop"
   ]
  },
  {
   "cell_type": "code",
   "execution_count": 4,
   "id": "28f09015",
   "metadata": {},
   "outputs": [
    {
     "name": "stdout",
     "output_type": "stream",
     "text": [
      "['Cmaj7', 'D7', 'Gm7', 'Am7']\n"
     ]
    }
   ],
   "source": [
    "chords = [\"Cmaj7\", \"D7\", \"Gm7\", \"Am\"]\n",
    "\n",
    "                                                                # Initialize index\n",
    "index = 0\n",
    "\n",
    "                                        # Iterate through the list and concatenate 7 to chords that don't already end with 7\n",
    "while index < len(chords):\n",
    "    if not chords[index].endswith(\"7\"):\n",
    "        chords[index] += \"7\"\n",
    "    index += 1\n",
    "\n",
    "print(chords)"
   ]
  },
  {
   "cell_type": "markdown",
   "id": "ca6e3a1c",
   "metadata": {},
   "source": [
    "# 3.)  Convert a Number to Base-2"
   ]
  },
  {
   "cell_type": "markdown",
   "id": "90855c62",
   "metadata": {},
   "source": [
    "### Create a function that returns a base-2 (binary) representation of a base-10 (decimal) string number. To convert is simple: ((2) means base-2 and (10) means base-10) 010101001(2) = 1 + 8 + 32 + 128.\n",
    "\n",
    "\n",
    "### Going from right to left, the value of the most right bit is 1, now from that every bit to the left will be x2 the value, value of an 8 bit binary numbers are (256, 128, 64, 32, 16, 8, 4, 2, 1)."
   ]
  },
  {
   "cell_type": "markdown",
   "id": "dbfbcace",
   "metadata": {},
   "source": [
    "##### For loop"
   ]
  },
  {
   "cell_type": "code",
   "execution_count": 14,
   "id": "322b4bd7",
   "metadata": {},
   "outputs": [
    {
     "name": "stdout",
     "output_type": "stream",
     "text": [
      "Enter a decimal number: 2\n",
      "The binary representation is: 000000010\n"
     ]
    }
   ],
   "source": [
    "decimal_number = int(input(\"Enter a decimal number: \"))\n",
    "\n",
    "binary_representation = \"\"\n",
    "\n",
    "bit_values = [256, 128, 64, 32, 16, 8, 4, 2, 1]\n",
    "                                                                                    \n",
    "binary(5) ➞ \"101\"\n",
    "\n",
    "binary(10) ➞ \"1010\"\n",
    "\n",
    "for bit_value in bit_values:\n",
    "    if decimal_number >= bit_value:\n",
    "        binary_representation += \"1\"\n",
    "        decimal_number -= bit_value\n",
    "    else:\n",
    "        binary_representation += \"0\"\n",
    "\n",
    "print(f\"The binary representation is: {binary_representation}\")"
   ]
  },
  {
   "cell_type": "markdown",
   "id": "5d0656cb",
   "metadata": {},
   "source": [
    "##### While loop"
   ]
  },
  {
   "cell_type": "code",
   "execution_count": 22,
   "id": "a48eae97",
   "metadata": {},
   "outputs": [
    {
     "name": "stdout",
     "output_type": "stream",
     "text": [
      "Enter a decimal number: 5\n",
      "The binary representation is: 000000101\n"
     ]
    }
   ],
   "source": [
    "decimal_number = int(input(\"Enter a decimal number: \"))\n",
    "\n",
    "binary_representation = \"\"\n",
    "\n",
    "bit_values = [256, 128, 64, 32, 16, 8, 4, 2, 1]\n",
    "index = 0\n",
    "\n",
    "while index < len(bit_values):\n",
    "    if decimal_number >= bit_values[index]:\n",
    "        binary_representation += \"1\"\n",
    "        decimal_number -= bit_values[index]\n",
    "    else:\n",
    "        binary_representation += \"0\"\n",
    "    index += 1\n",
    "\n",
    "print(f\"The binary representation is: {binary_representation}\")"
   ]
  },
  {
   "cell_type": "markdown",
   "id": "d461f900",
   "metadata": {},
   "source": [
    "# 4.) How Many Vowels?"
   ]
  },
  {
   "cell_type": "markdown",
   "id": "6a379c87",
   "metadata": {},
   "source": [
    "### Create a function that takes a string and returns the number (count) of vowels contained within it."
   ]
  },
  {
   "cell_type": "markdown",
   "id": "e9392ca7",
   "metadata": {},
   "source": [
    "##### For loop"
   ]
  },
  {
   "cell_type": "code",
   "execution_count": 27,
   "id": "71748c85",
   "metadata": {},
   "outputs": [
    {
     "name": "stdout",
     "output_type": "stream",
     "text": [
      "count_vowels: meghana\n",
      "The number of vowels in the string is: 3\n"
     ]
    }
   ],
   "source": [
    "                                                            # Input a string\n",
    "input_string = input(\"count_vowels: \")\n",
    "\n",
    "vowel_count = 0\n",
    "vowels = \"MEGHana\"\n",
    "\n",
    "for char in input_string:\n",
    "    if char in vowels:\n",
    "        vowel_count += 1\n",
    "\n",
    "print(f\"The number of vowels in the string is: {vowel_count}\")"
   ]
  },
  {
   "cell_type": "markdown",
   "id": "8a2c5b55",
   "metadata": {},
   "source": [
    "##### While loop"
   ]
  },
  {
   "cell_type": "code",
   "execution_count": 28,
   "id": "79cc7df2",
   "metadata": {},
   "outputs": [
    {
     "name": "stdout",
     "output_type": "stream",
     "text": [
      "Enter a string: bunny ramudu\n",
      "The number of vowels in the string is: 12\n"
     ]
    }
   ],
   "source": [
    "input_string = input(\"Enter a string: \")\n",
    "\n",
    "vowel_count = 0\n",
    "vowels = \"bunny ramudu\"\n",
    "\n",
    "index = 0\n",
    "while index < len(input_string):\n",
    "    if input_string[index] in vowels:\n",
    "        vowel_count += 1\n",
    "    index += 1\n",
    "\n",
    "print(f\"The number of vowels in the string is: {vowel_count}\")"
   ]
  },
  {
   "cell_type": "markdown",
   "id": "b28f6106",
   "metadata": {},
   "source": [
    "# 5.) find odd integer"
   ]
  },
  {
   "cell_type": "markdown",
   "id": "1f074504",
   "metadata": {},
   "source": [
    "### Create a function that takes a list and finds the integer which appears an odd number of times."
   ]
  },
  {
   "cell_type": "markdown",
   "id": "77874c33",
   "metadata": {},
   "source": [
    "##### For loop"
   ]
  },
  {
   "cell_type": "code",
   "execution_count": 30,
   "id": "d0b9a16f",
   "metadata": {},
   "outputs": [
    {
     "name": "stdout",
     "output_type": "stream",
     "text": [
      "The integer that appears an odd number of times is: -1\n"
     ]
    }
   ],
   "source": [
    "                                                   # Sample list of integers\n",
    "numbers = [1, 1, 2, -2, 5, 2, 4, 4, -1, -2, 5]\n",
    "\n",
    "result = 0\n",
    "\n",
    "for num in numbers:\n",
    "    result ^= num\n",
    "\n",
    "print(f\"The integer that appears an odd number of times is: {result}\")"
   ]
  },
  {
   "cell_type": "markdown",
   "id": "bd2995c4",
   "metadata": {},
   "source": [
    "##### While loop"
   ]
  },
  {
   "cell_type": "code",
   "execution_count": 35,
   "id": "85571f10",
   "metadata": {},
   "outputs": [
    {
     "name": "stdout",
     "output_type": "stream",
     "text": [
      "The integer that appears an odd number of times is: 5\n"
     ]
    }
   ],
   "source": [
    "numbers = [20, 1, 1, 2, 2, 3, 3, 5, 5, 4, 20, 4, 5]\n",
    "\n",
    "result = 0\n",
    "index = 0\n",
    "\n",
    "while index < len(numbers):\n",
    "    result ^= numbers[index]\n",
    "    index += 1\n",
    "\n",
    "print(f\"The integer that appears an odd number of times is: {result}\")"
   ]
  },
  {
   "cell_type": "markdown",
   "id": "a2ee650e",
   "metadata": {},
   "source": [
    "# 6.)  Hamming Distance"
   ]
  },
  {
   "cell_type": "markdown",
   "id": "1eca401b",
   "metadata": {},
   "source": [
    "### Hamming distance is the number of characters that differ between two strings."
   ]
  },
  {
   "cell_type": "markdown",
   "id": "daa30217",
   "metadata": {},
   "source": [
    "##### For loop"
   ]
  },
  {
   "cell_type": "code",
   "execution_count": 4,
   "id": "71a0cf24",
   "metadata": {},
   "outputs": [
    {
     "name": "stdout",
     "output_type": "stream",
     "text": [
      "Enter the first string: varun\n",
      "Enter the second string: varnn\n",
      "The Hamming distance is: 1\n"
     ]
    }
   ],
   "source": [
    "                                                                # Input two strings of equal length\n",
    "string1 = input(\"Enter the first string: \")\n",
    "string2 = input(\"Enter the second string: \")\n",
    "\n",
    "hamming_distance = 0\n",
    "\n",
    "if len(string1) != len(string2):\n",
    "    print(\"The strings must have the same length for Hamming distance calculation.\")\n",
    "else:\n",
    "    for i in range(len(string1)):\n",
    "        if string1[i] != string2[i]:\n",
    "            hamming_distance += 1\n",
    "\n",
    "    print(f\"The Hamming distance is: {hamming_distance}\")"
   ]
  },
  {
   "cell_type": "markdown",
   "id": "c3dfabe6",
   "metadata": {},
   "source": [
    "##### while loop"
   ]
  },
  {
   "cell_type": "code",
   "execution_count": 3,
   "id": "56f870a0",
   "metadata": {},
   "outputs": [
    {
     "name": "stdout",
     "output_type": "stream",
     "text": [
      "Enter the first string: bunny\n",
      "Enter the second string: buniy\n",
      "The Hamming distance is: 1\n"
     ]
    }
   ],
   "source": [
    "string1 = input(\"Enter the first string: \")\n",
    "string2 = input(\"Enter the second string: \")\n",
    "\n",
    "hamming_distance = 0\n",
    "\n",
    "if len(string1) != len(string2):\n",
    "    print(\"The strings must have the same length for Hamming distance calculation.\")\n",
    "else:\n",
    "    index = 0\n",
    "    while index < len(string1):\n",
    "        if string1[index] != string2[index]:\n",
    "            hamming_distance += 1\n",
    "        index += 1\n",
    "\n",
    "    print(f\"The Hamming distance is: {hamming_distance}\")"
   ]
  },
  {
   "cell_type": "markdown",
   "id": "80e58f60",
   "metadata": {},
   "source": [
    "#  7.)  Filter out string from an Array"
   ]
  },
  {
   "cell_type": "markdown",
   "id": "6a5502da",
   "metadata": {},
   "source": [
    "### Create a function that takes a list of non-negative integers and strings and return a new list without the strings."
   ]
  },
  {
   "cell_type": "markdown",
   "id": "b82d4cab",
   "metadata": {},
   "source": [
    "##### For loop"
   ]
  },
  {
   "cell_type": "code",
   "execution_count": 8,
   "id": "0023fc52",
   "metadata": {},
   "outputs": [
    {
     "name": "stdout",
     "output_type": "stream",
     "text": [
      "List without strings: [2, 6, 8]\n"
     ]
    }
   ],
   "source": [
    "                                                        # Sample list of non-negative integers and strings\n",
    "mixed_list = [1, \"apple\", 3, \"banana\", 5, \"cherry\"]\n",
    "new_list = []\n",
    "\n",
    "for item in mixed_list:\n",
    "    if isinstance(item, int):\n",
    "        new_list.append(item)\n",
    "\n",
    "print(\"List without strings:\", new_list)"
   ]
  },
  {
   "cell_type": "markdown",
   "id": "ecd71a0b",
   "metadata": {},
   "source": [
    "##### While loop"
   ]
  },
  {
   "cell_type": "code",
   "execution_count": 9,
   "id": "a0a9a69b",
   "metadata": {},
   "outputs": [
    {
     "name": "stdout",
     "output_type": "stream",
     "text": [
      "List without strings: [1, 3, 5]\n"
     ]
    }
   ],
   "source": [
    "mixed_list = [1, \"apple\", 3, \"banana\", 5, \"cherry\"]\n",
    "\n",
    "new_list = []\n",
    "\n",
    "index = 0\n",
    "\n",
    "while index < len(mixed_list):\n",
    "    if isinstance(mixed_list[index], int):\n",
    "        new_list.append(mixed_list[index])\n",
    "    index += 1\n",
    "\n",
    "print(\"List without strings:\", new_list)"
   ]
  },
  {
   "cell_type": "markdown",
   "id": "970b8ae5",
   "metadata": {},
   "source": [
    "#  8.)   Add the index"
   ]
  },
  {
   "cell_type": "markdown",
   "id": "12578f54",
   "metadata": {},
   "source": [
    "### Given a list of numbers, create a function which returns the list but with each element’s index in the list added to itself. This means you add 0 to the number at index 0, add 1 to the number at index 1, etc…"
   ]
  },
  {
   "cell_type": "markdown",
   "id": "ae41f035",
   "metadata": {},
   "source": [
    "##### For loop"
   ]
  },
  {
   "cell_type": "code",
   "execution_count": 14,
   "id": "fa3c4cd1",
   "metadata": {},
   "outputs": [
    {
     "name": "stdout",
     "output_type": "stream",
     "text": [
      "Modified list: [0, 1, 2, 3, 4]\n"
     ]
    }
   ],
   "source": [
    "numbers = [ 0, 0, 0, 0, 0]\n",
    "\n",
    "for index in range(len(numbers)):\n",
    "    numbers[index] += index\n",
    "\n",
    "print(\"Modified list:\", numbers)"
   ]
  },
  {
   "cell_type": "markdown",
   "id": "494ab87f",
   "metadata": {},
   "source": [
    "##### While loop"
   ]
  },
  {
   "cell_type": "code",
   "execution_count": 15,
   "id": "0777559c",
   "metadata": {},
   "outputs": [
    {
     "name": "stdout",
     "output_type": "stream",
     "text": [
      "Modified list: [1, 3, 5, 7, 9]\n"
     ]
    }
   ],
   "source": [
    "numbers = [1, 2, 3, 4, 5]\n",
    "\n",
    "index = 0\n",
    "\n",
    "while index < len(numbers):\n",
    "    numbers[index] += index\n",
    "    index += 1\n",
    "\n",
    "print(\"Modified list:\", numbers)"
   ]
  },
  {
   "cell_type": "markdown",
   "id": "f87ba19e",
   "metadata": {},
   "source": [
    "# 9.)  Triangular Number Sequence"
   ]
  },
  {
   "cell_type": "markdown",
   "id": "4c25c8dc",
   "metadata": {},
   "source": [
    "### This Triangular Number Sequence is generated from a pattern of dots that form a triangle. The first 5 numbers of the sequence, or dots, are:"
   ]
  },
  {
   "cell_type": "markdown",
   "id": "a49417d5",
   "metadata": {},
   "source": []
  },
  {
   "cell_type": "code",
   "execution_count": 17,
   "id": "1308d3fd",
   "metadata": {},
   "outputs": [
    {
     "name": "stdout",
     "output_type": "stream",
     "text": [
      "Triangular Number Sequence (first 5 terms): [1, 3, 6, 10, 15]\n"
     ]
    }
   ],
   "source": [
    "n = 5                                    # You can change n to any desired number of terms\n",
    "triangular_sequence = []\n",
    "\n",
    "total = 0                                 #This means that the first triangle has just one dot, \n",
    "                                          # the second one has three dots, \n",
    "                                        # the third one has 6 dots and so on.\n",
    "for i in range(1, n + 1):\n",
    "    total += i\n",
    "    triangular_sequence.append(total)\n",
    "\n",
    "print(\"Triangular Number Sequence (first\", n, \"terms):\", triangular_sequence)"
   ]
  },
  {
   "cell_type": "markdown",
   "id": "30b0f11f",
   "metadata": {},
   "source": [
    "#### For loop"
   ]
  },
  {
   "cell_type": "code",
   "execution_count": 20,
   "id": "25c3d0d8",
   "metadata": {},
   "outputs": [
    {
     "name": "stdout",
     "output_type": "stream",
     "text": [
      "Enter the triangle number: 215\n",
      "The number of dots for triangle number 215 is: 23220\n"
     ]
    }
   ],
   "source": [
    "n = int(input(\"Enter the triangle number: \"))\n",
    "\n",
    "total_dots = 0\n",
    "for i in range(1, n + 1):\n",
    "    total_dots += i\n",
    "\n",
    "print(f\"The number of dots for triangle number {n} is: {total_dots}\")"
   ]
  },
  {
   "cell_type": "markdown",
   "id": "dac0c69d",
   "metadata": {},
   "source": [
    "#### While loop"
   ]
  },
  {
   "cell_type": "code",
   "execution_count": 2,
   "id": "8f6d3c9e",
   "metadata": {},
   "outputs": [
    {
     "name": "stdout",
     "output_type": "stream",
     "text": [
      "Enter the triangle number: 6\n",
      "The number of dots for triangle number 6 is: 21\n"
     ]
    }
   ],
   "source": [
    "n = int(input(\"Enter the triangle number: \"))\n",
    "\n",
    "total_dots = 0\n",
    "i = 1\n",
    "\n",
    "while i <= n:\n",
    "    total_dots += i\n",
    "    i += 1\n",
    "\n",
    "print(f\"The number of dots for triangle number {n} is: {total_dots}\")"
   ]
  },
  {
   "cell_type": "markdown",
   "id": "e663d802",
   "metadata": {},
   "source": [
    "# 10.)  Card Counting (BlackJack)"
   ]
  },
  {
   "cell_type": "markdown",
   "id": "d7b66c46",
   "metadata": {},
   "source": [
    "#### In BlackJack, cards are counted with -1, 0, 1 values:\n",
    "##### Number cards (2-6): +1\n",
    "##### Neutral cards (7-9): 0\n",
    "##### High cards (10, J, Q, K, A): -1"
   ]
  },
  {
   "cell_type": "markdown",
   "id": "348e60bc",
   "metadata": {},
   "source": [
    "### Create a function that counts the number and returns it from the list of cards provided."
   ]
  },
  {
   "cell_type": "markdown",
   "id": "a7bcf643",
   "metadata": {},
   "source": [
    "##### For loop"
   ]
  },
  {
   "cell_type": "code",
   "execution_count": 8,
   "id": "279f38d5",
   "metadata": {},
   "outputs": [
    {
     "name": "stdout",
     "output_type": "stream",
     "text": [
      "The card count is: -6\n"
     ]
    }
   ],
   "source": [
    "                                                             # Sample list of cards\n",
    "cards = [\"A\", \"A\", \"K\", \"Q\", \"Q\", \"J\"]\n",
    "\n",
    "count = 0\n",
    "\n",
    "for card in cards:\n",
    "    if card in [\"2\", \"3\", \"4\", \"5\", \"6\"]:\n",
    "        count += 1\n",
    "    elif card in [\"10\", \"J\", \"Q\", \"K\", \"A\"]:\n",
    "        count -= 1\n",
    "\n",
    "print(f\"The card count is: {count}\")"
   ]
  },
  {
   "cell_type": "markdown",
   "id": "e4b7fe29",
   "metadata": {},
   "source": [
    "##### While loop"
   ]
  },
  {
   "cell_type": "code",
   "execution_count": 9,
   "id": "9ef21bad",
   "metadata": {},
   "outputs": [
    {
     "name": "stdout",
     "output_type": "stream",
     "text": [
      "The card count is: -1\n"
     ]
    }
   ],
   "source": [
    "cards = [\"A\", 5, 5, 2, 6, 2, 3, 8, 9, 7]\n",
    "\n",
    "count = 0\n",
    "index = 0\n",
    "\n",
    "while index < len(cards):\n",
    "    if cards[index] in [\"2\", \"3\", \"4\", \"5\", \"6\"]:\n",
    "        count += 1\n",
    "    elif cards[index] in [\"10\", \"J\", \"Q\", \"K\", \"A\"]:\n",
    "        count -= 1\n",
    "    index += 1\n",
    "\n",
    "print(f\"The card count is: {count}\")"
   ]
  },
  {
   "cell_type": "markdown",
   "id": "b325a3c1",
   "metadata": {},
   "source": [
    "# 11.) Return Only the Integer  "
   ]
  },
  {
   "cell_type": "markdown",
   "id": "597e93c4",
   "metadata": {},
   "source": [
    "### Write a function that takes a list of elements and returns only the integers."
   ]
  },
  {
   "cell_type": "markdown",
   "id": "b54db842",
   "metadata": {},
   "source": [
    "##### For loop"
   ]
  },
  {
   "cell_type": "code",
   "execution_count": 12,
   "id": "38cd481b",
   "metadata": {},
   "outputs": [
    {
     "name": "stdout",
     "output_type": "stream",
     "text": [
      "List of integers: [1, 3, 5]\n"
     ]
    }
   ],
   "source": [
    "elements = [1, \"Bunny\", 3, \"Ramudu\", 5, \"meghana\"]\n",
    "\n",
    "integers = []\n",
    "\n",
    "for element in elements:\n",
    "    if isinstance(element, int):\n",
    "        integers.append(element)\n",
    "\n",
    "print(\"List of integers:\", integers)"
   ]
  },
  {
   "cell_type": "markdown",
   "id": "5eab37c5",
   "metadata": {},
   "source": [
    "##### While loop"
   ]
  },
  {
   "cell_type": "code",
   "execution_count": 13,
   "id": "51ef9730",
   "metadata": {},
   "outputs": [
    {
     "name": "stdout",
     "output_type": "stream",
     "text": [
      "List of integers: [1, 3, 5]\n"
     ]
    }
   ],
   "source": [
    "                                                                         # Sample list of elements\n",
    "elements = [1, \"jayanthi\", 3, \"vikram\", 5, \"varun\"]\n",
    "\n",
    "integers = []\n",
    "index = 0\n",
    "\n",
    "while index < len(elements):\n",
    "    if isinstance(elements[index], int):\n",
    "        integers.append(elements[index])\n",
    "    index += 1\n",
    "\n",
    "print(\"List of integers:\", integers)"
   ]
  },
  {
   "cell_type": "markdown",
   "id": "b60f34d8",
   "metadata": {},
   "source": [
    "# 12.)  Is the Word an Isogram?"
   ]
  },
  {
   "cell_type": "markdown",
   "id": "577727b8",
   "metadata": {},
   "source": [
    "### An isogram is a word that has no duplicate letters. Create a function that takes a string and returns either True or False depending on whether or not it's an \"isogram\"."
   ]
  },
  {
   "cell_type": "markdown",
   "id": "24dd1142",
   "metadata": {},
   "source": [
    "##### For loop"
   ]
  },
  {
   "cell_type": "code",
   "execution_count": 14,
   "id": "ffd27cc3",
   "metadata": {},
   "outputs": [
    {
     "name": "stdout",
     "output_type": "stream",
     "text": [
      "Enter a word: Varun\n",
      "Is the word an isogram? True\n"
     ]
    }
   ],
   "source": [
    "                                                       # Input a word\n",
    "word = input(\"Enter a word: \")\n",
    "\n",
    "is_isogram = True\n",
    "\n",
    "for i in range(len(word)):\n",
    "    for j in range(i + 1, len(word)):\n",
    "        if word[i] == word[j]:\n",
    "            is_isogram = False\n",
    "            break\n",
    "\n",
    "print(\"Is the word an isogram?\", is_isogram)"
   ]
  },
  {
   "cell_type": "markdown",
   "id": "0a24fdc3",
   "metadata": {},
   "source": [
    "##### While loop"
   ]
  },
  {
   "cell_type": "code",
   "execution_count": 15,
   "id": "df15bc42",
   "metadata": {},
   "outputs": [
    {
     "name": "stdout",
     "output_type": "stream",
     "text": [
      "Enter a word: Bunny\n",
      "Is the word an isogram? False\n"
     ]
    }
   ],
   "source": [
    "word = input(\"Enter a word: \")\n",
    "\n",
    "is_isogram = True\n",
    "\n",
    "i = 0\n",
    "while i < len(word):\n",
    "    j = i + 1\n",
    "    while j < len(word):\n",
    "        if word[i] == word[j]:\n",
    "            is_isogram = False\n",
    "            break\n",
    "        j += 1\n",
    "    if not is_isogram:\n",
    "        break\n",
    "    i += 1\n",
    "\n",
    "print(\"Is the word an isogram?\", is_isogram)\n",
    "\n",
    "\n",
    "\n",
    "#Both of these code snippets will check if a word is an isogram by comparing each pair of characters in the word to detect duplicates. \n",
    "#The result will be True if it's an isogram and False if it's not.\n",
    "\n",
    "\n",
    "\n",
    "\n",
    "\n"
   ]
  },
  {
   "cell_type": "markdown",
   "id": "e04ea6cf",
   "metadata": {},
   "source": [
    "# 13.)  Purge and Organize"
   ]
  },
  {
   "cell_type": "markdown",
   "id": "ee09c7ae",
   "metadata": {},
   "source": [
    "### Given a list of numbers, write a function that returns a list that…\n",
    "\n",
    "### Has all duplicate elements removed.\n",
    "### Is sorted from least to greatest value."
   ]
  },
  {
   "cell_type": "markdown",
   "id": "7fe9f524",
   "metadata": {},
   "source": [
    "##### For loop"
   ]
  },
  {
   "cell_type": "code",
   "execution_count": 17,
   "id": "0815311c",
   "metadata": {},
   "outputs": [
    {
     "name": "stdout",
     "output_type": "stream",
     "text": [
      "Purged and organized list: [1, 2, 3, 4]\n"
     ]
    }
   ],
   "source": [
    "numbers = [1, 4, 4, 4, 4, 4, 3, 2, 1, 2]\n",
    "\n",
    "unique_sorted_list = []\n",
    "\n",
    "for number in numbers:\n",
    "    if number not in unique_sorted_list:\n",
    "        unique_sorted_list.append(number)\n",
    "\n",
    "unique_sorted_list.sort()\n",
    "\n",
    "print(\"Purged and organized list:\", unique_sorted_list)"
   ]
  },
  {
   "cell_type": "markdown",
   "id": "9e78f1a7",
   "metadata": {},
   "source": [
    "##### while loop"
   ]
  },
  {
   "cell_type": "code",
   "execution_count": 18,
   "id": "de95a801",
   "metadata": {},
   "outputs": [
    {
     "name": "stdout",
     "output_type": "stream",
     "text": [
      "Purged and organized list: [1, 2, 3, 6, 7]\n"
     ]
    }
   ],
   "source": [
    "numbers = [6, 7, 3, 2, 1]\n",
    "\n",
    "unique_sorted_list = []\n",
    "index = 0\n",
    "\n",
    "while index < len(numbers):\n",
    "    if numbers[index] not in unique_sorted_list:\n",
    "        unique_sorted_list.append(numbers[index])\n",
    "    index += 1\n",
    "\n",
    "unique_sorted_list.sort()\n",
    "\n",
    "print(\"Purged and organized list:\", unique_sorted_list)"
   ]
  },
  {
   "cell_type": "markdown",
   "id": "8abe3daf",
   "metadata": {},
   "source": [
    "# 14.)  Transform into a List with No Duplicates"
   ]
  },
  {
   "cell_type": "markdown",
   "id": "b42869ed",
   "metadata": {},
   "source": [
    "### A set is a collection of unique items. A set can be formed from a list by removing all duplicate items."
   ]
  },
  {
   "cell_type": "markdown",
   "id": "96a1479d",
   "metadata": {},
   "source": [
    "##### For loop"
   ]
  },
  {
   "cell_type": "code",
   "execution_count": 19,
   "id": "145435f2",
   "metadata": {},
   "outputs": [
    {
     "name": "stdout",
     "output_type": "stream",
     "text": [
      "List with no duplicates and sorted: [1, 2, 3, 4, 6]\n"
     ]
    }
   ],
   "source": [
    "items = [4, 2, 4, 1, 3, 2, 6, 1]\n",
    "\n",
    "unique_sorted_list = []\n",
    "\n",
    "for item in items:\n",
    "    if item not in unique_sorted_list:\n",
    "        unique_sorted_list.append(item)\n",
    "\n",
    "unique_sorted_list.sort()\n",
    "\n",
    "print(\"List with no duplicates and sorted:\", unique_sorted_list)"
   ]
  },
  {
   "cell_type": "markdown",
   "id": "d5571408",
   "metadata": {},
   "source": [
    "#### While loop"
   ]
  },
  {
   "cell_type": "code",
   "execution_count": 20,
   "id": "7135f948",
   "metadata": {},
   "outputs": [
    {
     "name": "stdout",
     "output_type": "stream",
     "text": [
      "List with no duplicates and sorted: [1, 2, 3, 4, 6]\n"
     ]
    }
   ],
   "source": [
    "items = [4, 2, 4, 1, 3, 2, 6, 1]\n",
    "\n",
    "unique_sorted_list = []\n",
    "index = 0\n",
    "\n",
    "while index < len(items):\n",
    "    if items[index] not in unique_sorted_list:\n",
    "        unique_sorted_list.append(items[index])\n",
    "    index += 1\n",
    "\n",
    "unique_sorted_list.sort()\n",
    "\n",
    "print(\"List with no duplicates and sorted:\", unique_sorted_list)"
   ]
  },
  {
   "cell_type": "markdown",
   "id": "3d37ddbb",
   "metadata": {},
   "source": [
    "# 15.)  Get Student Names"
   ]
  },
  {
   "cell_type": "markdown",
   "id": "ed982e6c",
   "metadata": {},
   "source": [
    "### Create a function that takes a dictionary of student names and returns a list of student names in alphabetical order."
   ]
  },
  {
   "cell_type": "markdown",
   "id": "4e1d8a5e",
   "metadata": {},
   "source": [
    "#### For loop"
   ]
  },
  {
   "cell_type": "code",
   "execution_count": 21,
   "id": "0de6b3e2",
   "metadata": {},
   "outputs": [
    {
     "name": "stdout",
     "output_type": "stream",
     "text": [
      "Sorted student names: ['Alice', 'Bob', 'Eve', 'John']\n"
     ]
    }
   ],
   "source": [
    "student_names = {\n",
    "    'John': 25,\n",
    "    'Alice': 22,\n",
    "    'Bob': 23,\n",
    "    'Eve': 21\n",
    "}\n",
    "\n",
    "sorted_student_names = []\n",
    "\n",
    "for name in sorted(student_names.keys()):\n",
    "    sorted_student_names.append(name)\n",
    "\n",
    "print(\"Sorted student names:\", sorted_student_names)"
   ]
  },
  {
   "cell_type": "markdown",
   "id": "c1733edb",
   "metadata": {},
   "source": [
    "#### While loop"
   ]
  },
  {
   "cell_type": "code",
   "execution_count": 22,
   "id": "b0738fb0",
   "metadata": {},
   "outputs": [
    {
     "name": "stdout",
     "output_type": "stream",
     "text": [
      "Sorted student names: ['Alice', 'Bob', 'Eve', 'John']\n"
     ]
    }
   ],
   "source": [
    "student_names = {\n",
    "    'John': 25,\n",
    "    'Alice': 22,\n",
    "    'Bob': 23,\n",
    "    'Eve': 21\n",
    "}\n",
    "\n",
    "sorted_student_names = []\n",
    "keys = sorted(student_names.keys())\n",
    "\n",
    "index = 0\n",
    "while index < len(keys):\n",
    "    sorted_student_names.append(keys[index])\n",
    "    index += 1\n",
    "\n",
    "print(\"Sorted student names:\", sorted_student_names)"
   ]
  },
  {
   "cell_type": "markdown",
   "id": "96228a1a",
   "metadata": {},
   "source": [
    "# 16) Say Hello to Guests\n",
    "\n",
    "### In this exercise you will have to:\n",
    "\n",
    "#### Take a list of names.\n",
    "\n",
    "#### Add “Hello” to every name.\n",
    "\n",
    "#### Make one big string with all greetings.\n",
    "\n",
    "#### The solution should be one string with a comma in between every “Hello (Name)”."
   ]
  },
  {
   "cell_type": "markdown",
   "id": "0bc4da1f",
   "metadata": {},
   "source": [
    "#### For loop"
   ]
  },
  {
   "cell_type": "code",
   "execution_count": 24,
   "id": "26143a45",
   "metadata": {},
   "outputs": [
    {
     "name": "stdout",
     "output_type": "stream",
     "text": [
      "Hello vikram, Hello jayanthi, Hello ramudu, Hello varun\n"
     ]
    }
   ],
   "source": [
    "names = [\"vikram\", \"jayanthi\", \"ramudu\", \"varun\"]\n",
    "\n",
    "greetings = []\n",
    "\n",
    "for name in names:\n",
    "    greetings.append(\"Hello \" + name)\n",
    "\n",
    "result = \", \".join(greetings)\n",
    "\n",
    "print(result)"
   ]
  },
  {
   "cell_type": "markdown",
   "id": "2a1b5e04",
   "metadata": {},
   "source": [
    "#### While loop"
   ]
  },
  {
   "cell_type": "code",
   "execution_count": 25,
   "id": "83bec8bc",
   "metadata": {},
   "outputs": [
    {
     "name": "stdout",
     "output_type": "stream",
     "text": [
      "Hello mummy, Hello brother, Hello daddy, Hello sister\n"
     ]
    }
   ],
   "source": [
    "names = [\"mummy\", \"brother\", \"daddy\", \"sister\"]\n",
    "\n",
    "greetings = []\n",
    "index = 0\n",
    "\n",
    "while index < len(names):\n",
    "    greetings.append(\"Hello \" + names[index])\n",
    "    index += 1\n",
    "\n",
    "result = \", \".join(greetings)\n",
    "\n",
    "print(result)"
   ]
  },
  {
   "cell_type": "markdown",
   "id": "18ddcb60",
   "metadata": {},
   "source": [
    "# 17)  Find the Mean of All Digits\n",
    "\n",
    "\n",
    "### Create a function that returns the mean of all digits."
   ]
  },
  {
   "cell_type": "markdown",
   "id": "658275c1",
   "metadata": {},
   "source": [
    "#### For loop"
   ]
  },
  {
   "cell_type": "code",
   "execution_count": 32,
   "id": "e1060fbe",
   "metadata": {},
   "outputs": [
    {
     "name": "stdout",
     "output_type": "stream",
     "text": [
      "Enter a number: 42\n",
      "The mean of all digits is: 3.0\n"
     ]
    }
   ],
   "source": [
    "number = int(input(\"Enter a number: \"))\n",
    "\n",
    "digit_sum = 0\n",
    "count = 0\n",
    "\n",
    "for digit in str(abs(number)):\n",
    "    if digit.isdigit():\n",
    "        digit_sum += int(digit)\n",
    "        count += 1\n",
    "\n",
    "if count == 0:\n",
    "    print(\"No digits found.\")\n",
    "else:\n",
    "    mean = digit_sum / count\n",
    "    print(f\"The mean of all digits is: {mean}\")"
   ]
  },
  {
   "cell_type": "markdown",
   "id": "f6c1c149",
   "metadata": {},
   "source": [
    "#### While loop"
   ]
  },
  {
   "cell_type": "code",
   "execution_count": 34,
   "id": "cbf0101c",
   "metadata": {},
   "outputs": [
    {
     "name": "stdout",
     "output_type": "stream",
     "text": [
      "Enter a number: 666\n",
      "The mean of all digits is: 6.0\n"
     ]
    }
   ],
   "source": [
    "number = int(input(\"Enter a number: \"))\n",
    "\n",
    "digit_sum = 0\n",
    "count = 0\n",
    "\n",
    "num_str = str(abs(number))\n",
    "index = 0\n",
    "\n",
    "while index < len(num_str):\n",
    "    digit = num_str[index]\n",
    "    if digit.isdigit():\n",
    "        digit_sum += int(digit)\n",
    "        count += 1\n",
    "    index += 1\n",
    "\n",
    "if count == 0:\n",
    "    print(\"No digits found.\")\n",
    "else:\n",
    "    mean = digit_sum / count\n",
    "    print(f\"The mean of all digits is: {mean}\")\n",
    "\n",
    "    \n",
    "    #Both of these code snippets will calculate the mean of all digits in a number by summing the digits and dividing by the count of digits found. \n",
    "#The result will be the mean value.\n",
    "\n",
    "\n",
    "\n",
    "\n",
    "\n"
   ]
  },
  {
   "cell_type": "markdown",
   "id": "edb3df28",
   "metadata": {},
   "source": [
    "# 18) Typing Game"
   ]
  },
  {
   "cell_type": "markdown",
   "id": "6f025d51",
   "metadata": {},
   "source": [
    "### Create a function that takes in two lists: the list of user-typed words, and the list of correctly-typed words and outputs a list containing 1s (correctly-typed words) and -1s (incorrectly-typed words)."
   ]
  },
  {
   "cell_type": "markdown",
   "id": "98c97e65",
   "metadata": {},
   "source": [
    "#### For loop"
   ]
  },
  {
   "cell_type": "code",
   "execution_count": 37,
   "id": "23de2444",
   "metadata": {},
   "outputs": [
    {
     "name": "stdout",
     "output_type": "stream",
     "text": [
      "Results: [1, 1, -1, -1, 1]\n"
     ]
    }
   ],
   "source": [
    "user_typed_words = [\"apple\", \"banana\", \"donkey\", \"pig\", \"date\"]\n",
    "correctly_typed_words = [\"apple\", \"banana\", \"cherry\", \"car\", \"date\"]\n",
    "\n",
    "results = []\n",
    "\n",
    "for user_word, correct_word in zip(user_typed_words, correctly_typed_words):\n",
    "    if user_word == correct_word:\n",
    "        results.append(1)\n",
    "    else:\n",
    "        results.append(-1)\n",
    "\n",
    "print(\"Results:\", results)"
   ]
  },
  {
   "cell_type": "markdown",
   "id": "3b11bd50",
   "metadata": {},
   "source": [
    "#### While loop"
   ]
  },
  {
   "cell_type": "code",
   "execution_count": 39,
   "id": "d311a300",
   "metadata": {},
   "outputs": [
    {
     "name": "stdout",
     "output_type": "stream",
     "text": [
      "Results: [1, -1, 1, 1, 1]\n"
     ]
    }
   ],
   "source": [
    "user_typed_words = [\"ramudu\", \"banana\", \"jayanthi\", \"varun\", \"bunny\"]\n",
    "correctly_typed_words = [\"ramudu\", \"car\", \"jayanthi\", \"varun\", \"bunny\"]\n",
    "\n",
    "results = []\n",
    "index = 0\n",
    "\n",
    "while index < len(user_typed_words):\n",
    "    if user_typed_words[index] == correctly_typed_words[index]:\n",
    "        results.append(1)\n",
    "    else:\n",
    "        results.append(-1)\n",
    "    index += 1\n",
    "\n",
    "print(\"Results:\", results)"
   ]
  },
  {
   "cell_type": "markdown",
   "id": "1065ea9b",
   "metadata": {},
   "source": [
    "# 19)  True Ones, False Zeros"
   ]
  },
  {
   "cell_type": "markdown",
   "id": "4315d33d",
   "metadata": {},
   "source": [
    "### Create a function which returns a list of booleans, from a given number. Iterating through the number one digit at a time, append True if the digit is 1 and False if it is 0."
   ]
  },
  {
   "cell_type": "markdown",
   "id": "3dbfa40f",
   "metadata": {},
   "source": [
    "## Notes\n",
    "### Expect numbers with 0 and 1 only."
   ]
  },
  {
   "cell_type": "markdown",
   "id": "6c9001ff",
   "metadata": {},
   "source": [
    "#### For loop"
   ]
  },
  {
   "cell_type": "code",
   "execution_count": 42,
   "id": "20b480a9",
   "metadata": {},
   "outputs": [
    {
     "name": "stdout",
     "output_type": "stream",
     "text": [
      "Enter a number: 100101\n",
      "List of booleans: [True, False, False, True, False, True]\n"
     ]
    }
   ],
   "source": [
    "number = int(input(\"Enter a number: \"))\n",
    "\n",
    "binary_list = []\n",
    "\n",
    "for digit in str(number):\n",
    "    if digit == \"1\":\n",
    "        binary_list.append(True)\n",
    "    elif digit == \"0\":\n",
    "        binary_list.append(False)\n",
    "\n",
    "print(\"List of booleans:\", binary_list)"
   ]
  },
  {
   "cell_type": "markdown",
   "id": "4ddd1bea",
   "metadata": {},
   "source": [
    "#### While loop"
   ]
  },
  {
   "cell_type": "code",
   "execution_count": 43,
   "id": "77adf8f8",
   "metadata": {},
   "outputs": [
    {
     "name": "stdout",
     "output_type": "stream",
     "text": [
      "Enter a number: 10\n",
      "List of booleans: [True, False]\n"
     ]
    }
   ],
   "source": [
    "number = int(input(\"Enter a number: \"))\n",
    "\n",
    "binary_list = []\n",
    "num_str = str(number)\n",
    "\n",
    "index = 0\n",
    "\n",
    "while index < len(num_str):\n",
    "    digit = num_str[index]\n",
    "    if digit == \"1\":\n",
    "        binary_list.append(True)\n",
    "    elif digit == \"0\":\n",
    "        binary_list.append(False)\n",
    "    index += 1\n",
    "\n",
    "print(\"List of booleans:\", binary_list)"
   ]
  },
  {
   "cell_type": "markdown",
   "id": "4cb30700",
   "metadata": {},
   "source": [
    "# 20.) Is One List a Subset of Another?"
   ]
  },
  {
   "cell_type": "markdown",
   "id": "150f49f4",
   "metadata": {},
   "source": [
    "### Create a function that returns True if the first list is a subset of the second. Return False otherwise."
   ]
  },
  {
   "cell_type": "markdown",
   "id": "98f537b9",
   "metadata": {},
   "source": [
    "#### For loop"
   ]
  },
  {
   "cell_type": "code",
   "execution_count": 45,
   "id": "666cc78b",
   "metadata": {},
   "outputs": [
    {
     "name": "stdout",
     "output_type": "stream",
     "text": [
      "Is list1 a subset of list2? True\n"
     ]
    }
   ],
   "source": [
    "list1 = [1, 2, 3]\n",
    "list2 = [1, 2, 3, 4, 5]\n",
    "\n",
    "is_subset = True\n",
    "\n",
    "for item in list1:                             # if there is same list munbers in both lists it will show true\n",
    "    if item not in list2:\n",
    "        is_subset = False                       # if not it will show False\n",
    "        break\n",
    "\n",
    "print(\"Is list1 a subset of list2?\", is_subset)"
   ]
  },
  {
   "cell_type": "markdown",
   "id": "a95a5248",
   "metadata": {},
   "source": [
    "#### While loop"
   ]
  },
  {
   "cell_type": "code",
   "execution_count": 46,
   "id": "ea3ab0a9",
   "metadata": {},
   "outputs": [
    {
     "name": "stdout",
     "output_type": "stream",
     "text": [
      "Is list1 a subset of list2? True\n"
     ]
    }
   ],
   "source": [
    "list1 = [1, 2, 3]\n",
    "list2 = [1, 2, 3, 4, 5]\n",
    "\n",
    "is_subset = True\n",
    "index = 0\n",
    "\n",
    "while index < len(list1):\n",
    "    if list1[index] not in list2:\n",
    "        is_subset = False\n",
    "        break\n",
    "    index += 1\n",
    "\n",
    "print(\"Is list1 a subset of list2?\", is_subset)"
   ]
  },
  {
   "cell_type": "markdown",
   "id": "9e5b141c",
   "metadata": {},
   "source": [
    "# 21.) Scrabble Hand"
   ]
  },
  {
   "cell_type": "markdown",
   "id": "fd661749",
   "metadata": {},
   "source": [
    "### Given a list of scrabble tiles (as dictionaries), create a function that outputs the maximum possible score a player can achieve by summing up the total number of points for all the tiles in their hand. Each hand contains 7 scrabble tiles."
   ]
  },
  {
   "cell_type": "markdown",
   "id": "0c140b21",
   "metadata": {},
   "source": [
    "#### For loop"
   ]
  },
  {
   "cell_type": "code",
   "execution_count": 48,
   "id": "5dc3864e",
   "metadata": {},
   "outputs": [
    {
     "name": "stdout",
     "output_type": "stream",
     "text": [
      "Maximum possible score: 28\n"
     ]
    }
   ],
   "source": [
    "scrabble_hand = [\n",
    "    {'letter': 'A', 'value': 1},\n",
    "    {'letter': 'E', 'value': 5},\n",
    "    {'letter': 'R', 'value': 10},\n",
    "    {'letter': 'T', 'value': 8},\n",
    "    {'letter': 'Z', 'value': 2},\n",
    "    {'letter': 'O', 'value': 1},\n",
    "    {'letter': 'X', 'value': 1}\n",
    "]\n",
    "\n",
    "max_score = 0\n",
    "\n",
    "for tile in scrabble_hand:\n",
    "    max_score += tile['value']\n",
    "\n",
    "print(\"Maximum possible score:\", max_score)"
   ]
  },
  {
   "cell_type": "markdown",
   "id": "81588080",
   "metadata": {},
   "source": [
    "#### While loop"
   ]
  },
  {
   "cell_type": "code",
   "execution_count": 49,
   "id": "f73ec4a3",
   "metadata": {},
   "outputs": [
    {
     "name": "stdout",
     "output_type": "stream",
     "text": [
      "Maximum possible score: 15\n"
     ]
    }
   ],
   "source": [
    "scrabble_hand = [\n",
    "    {'letter': 'A', 'value': 2},\n",
    "    {'letter': 'E', 'value': 4},\n",
    "    {'letter': 'R', 'value': 4},\n",
    "    {'letter': 'T', 'value': 1},\n",
    "    {'letter': 'Z', 'value': 2},\n",
    "    {'letter': 'O', 'value': 1},\n",
    "    {'letter': 'X', 'value': 1}\n",
    "]\n",
    "\n",
    "max_score = 0\n",
    "index = 0\n",
    "\n",
    "while index < len(scrabble_hand):\n",
    "    max_score += scrabble_hand[index]['value']\n",
    "    index += 1\n",
    "\n",
    "print(\"Maximum possible score:\", max_score)"
   ]
  },
  {
   "cell_type": "markdown",
   "id": "485304ab",
   "metadata": {},
   "source": [
    "# 22.)  Amplify the MCreate a function that takes an integer and returns a list from 1 to the given number, where:"
   ]
  },
  {
   "cell_type": "markdown",
   "id": "498063d7",
   "metadata": {},
   "source": [
    "### 1. If the number can be divided evenly by 4, amplify it by 10 (i.e. return 10 times the number).\n",
    "\n",
    "### 2. If the number cannot be divided evenly by 4, simply return the number."
   ]
  },
  {
   "cell_type": "markdown",
   "id": "8cc51a39",
   "metadata": {},
   "source": [
    "#### For loop"
   ]
  },
  {
   "cell_type": "code",
   "execution_count": 50,
   "id": "ad7da22c",
   "metadata": {},
   "outputs": [
    {
     "name": "stdout",
     "output_type": "stream",
     "text": [
      "Enter an integer: 4\n",
      "Amplified list: [1, 2, 3, 40]\n"
     ]
    }
   ],
   "source": [
    "n = int(input(\"Enter an integer: \"))\n",
    "\n",
    "result_list = []\n",
    "\n",
    "for i in range(1, n + 1):\n",
    "    if i % 4 == 0:\n",
    "        result_list.append(i * 10)\n",
    "    else:\n",
    "        result_list.append(i)\n",
    "\n",
    "print(\"Amplified list:\", result_list)"
   ]
  },
  {
   "cell_type": "markdown",
   "id": "b3c30636",
   "metadata": {},
   "source": [
    "#### While loop"
   ]
  },
  {
   "cell_type": "code",
   "execution_count": 51,
   "id": "0bb1aefa",
   "metadata": {},
   "outputs": [
    {
     "name": "stdout",
     "output_type": "stream",
     "text": [
      "Enter an integer: 3\n",
      "Amplified list: [1, 2, 3]\n"
     ]
    }
   ],
   "source": [
    "n = int(input(\"Enter an integer: \"))\n",
    "\n",
    "result_list = []\n",
    "i = 1\n",
    "\n",
    "while i <= n:\n",
    "    if i % 4 == 0:\n",
    "        result_list.append(i * 10)\n",
    "    else:\n",
    "        result_list.append(i)\n",
    "    i += 1\n",
    "\n",
    "print(\"Amplified list:\", result_list)"
   ]
  },
  {
   "cell_type": "markdown",
   "id": "727e5d75",
   "metadata": {},
   "source": [
    "# 23.) Upper or Lower Case"
   ]
  },
  {
   "cell_type": "markdown",
   "id": "04866f39",
   "metadata": {},
   "source": [
    "### Return the smallest number of steps it takes to convert a string entirely into uppercase or entirely into lower case, whichever takes the fewest number of steps. A step consists of changing one character from lower to upper case, or vice versa."
   ]
  },
  {
   "cell_type": "markdown",
   "id": "f1e7e502",
   "metadata": {},
   "source": [
    "#### For loop"
   ]
  },
  {
   "cell_type": "code",
   "execution_count": 62,
   "id": "81700292",
   "metadata": {},
   "outputs": [
    {
     "name": "stdout",
     "output_type": "stream",
     "text": [
      "Enter a string: 2\n",
      "Smallest number of steps to convert to uppercase: 0\n"
     ]
    }
   ],
   "source": [
    "text = input(\"Enter a string: \")\n",
    "\n",
    "uppercase_count = 0\n",
    "lowercase_count = 0\n",
    "\n",
    "for char in text:\n",
    "    if char.isupper():\n",
    "        lowercase_count += 1\n",
    "    else:\n",
    "        uppercase_count += 1\n",
    "\n",
    "steps_to_upper = lowercase_count\n",
    "steps_to_lower = uppercase_count\n",
    "\n",
    "print(\"Smallest number of steps to convert to uppercase:\", min(steps_to_upper, steps_to_lower))"
   ]
  },
  {
   "cell_type": "markdown",
   "id": "7c933422",
   "metadata": {},
   "source": [
    "#### While loop"
   ]
  },
  {
   "cell_type": "code",
   "execution_count": 63,
   "id": "900d5855",
   "metadata": {},
   "outputs": [
    {
     "name": "stdout",
     "output_type": "stream",
     "text": [
      "Enter a string: 2\n",
      "Smallest number of steps to convert to uppercase: 0\n"
     ]
    }
   ],
   "source": [
    "text = input(\"Enter a string: \")\n",
    "\n",
    "uppercase_count = 0\n",
    "lowercase_count = 0\n",
    "index = 0\n",
    "\n",
    "while index < len(text):\n",
    "    char = text[index]\n",
    "    if char.isupper():\n",
    "        lowercase_count += 1\n",
    "    else:\n",
    "        uppercase_count += 1\n",
    "    index += 1\n",
    "\n",
    "steps_to_upper = lowercase_count\n",
    "steps_to_lower = uppercase_count\n",
    "\n",
    "print(\"Smallest number of steps to convert to uppercase:\", min(steps_to_upper, steps_to_lower))"
   ]
  },
  {
   "cell_type": "markdown",
   "id": "a8f45ea5",
   "metadata": {},
   "source": [
    " #  24.) One Button Messaging Device"
   ]
  },
  {
   "cell_type": "markdown",
   "id": "99af1bfe",
   "metadata": {},
   "source": [
    "### Write a function that takes a string (the message) and returns the total number of times the button is pressed."
   ]
  },
  {
   "cell_type": "markdown",
   "id": "13c10a84",
   "metadata": {},
   "source": [
    "#### For loop"
   ]
  },
  {
   "cell_type": "code",
   "execution_count": 66,
   "id": "89547016",
   "metadata": {},
   "outputs": [
    {
     "name": "stdout",
     "output_type": "stream",
     "text": [
      "Enter a message: \"abde\"\n",
      "Total button presses: 12\n"
     ]
    }
   ],
   "source": [
    "message = input(\"Enter a message: \").upper()\n",
    "\n",
    "total_presses = 0\n",
    "\n",
    "for char in message:\n",
    "    if char.isalpha():\n",
    "        total_presses += ord(char) - ord('A') + 1\n",
    "\n",
    "print(\"Total button presses:\", total_presses)"
   ]
  },
  {
   "cell_type": "markdown",
   "id": "a42688b3",
   "metadata": {},
   "source": [
    "#### While loop"
   ]
  },
  {
   "cell_type": "code",
   "execution_count": 67,
   "id": "7ec048c1",
   "metadata": {},
   "outputs": [
    {
     "name": "stdout",
     "output_type": "stream",
     "text": [
      "Enter a message: \"azy\"\n",
      "Total button presses: 52\n"
     ]
    }
   ],
   "source": [
    "message = input(\"Enter a message: \").upper()\n",
    "\n",
    "total_presses = 0\n",
    "index = 0\n",
    "\n",
    "while index < len(message):\n",
    "    char = message[index]\n",
    "    if char.isalpha():\n",
    "        total_presses += ord(char) - ord('A') + 1\n",
    "    index += 1\n",
    "\n",
    "print(\"Total button presses:\", total_presses)"
   ]
  },
  {
   "cell_type": "markdown",
   "id": "85931c10",
   "metadata": {},
   "source": [
    "# 25.) Hot Pics of Danny DeVito!"
   ]
  },
  {
   "cell_type": "markdown",
   "id": "a917cc5a",
   "metadata": {},
   "source": [
    "### I’m trying to watch some lectures to study for my next exam but I keep getting distracted by meme compilations, vine compilations, anime, and more on my favorite video platform.\n",
    "\n",
    "\n",
    "\n",
    "### Your job is to help me create a function that takes a string and checks to see if it contains the following words or phrases:"
   ]
  },
  {
   "cell_type": "markdown",
   "id": "18292e15",
   "metadata": {},
   "source": [
    "#### For loop"
   ]
  },
  {
   "cell_type": "code",
   "execution_count": 74,
   "id": "333512bf",
   "metadata": {},
   "outputs": [
    {
     "name": "stdout",
     "output_type": "stream",
     "text": [
      "Enter a string: \"vines that butter my eggroll\"\n",
      "NO!\n"
     ]
    }
   ],
   "source": [
    "text = input(\"Enter a string: \").lower()\n",
    "\n",
    "for word in [\"anime\", \"meme\", \"vines\", \"roasts\", \"danny devito\"]:\n",
    "    if word in text:\n",
    "        print(\"NO!\")\n",
    "        break\n",
    "else:\n",
    "    print(\"Safe watching!\")"
   ]
  },
  {
   "cell_type": "markdown",
   "id": "347aa96d",
   "metadata": {},
   "source": [
    "#### While loop"
   ]
  },
  {
   "cell_type": "code",
   "execution_count": 73,
   "id": "a73d4ba7",
   "metadata": {},
   "outputs": [
    {
     "name": "stdout",
     "output_type": "stream",
     "text": [
      "Enter a string: \"How to ace BC Calculus in 5 Easy Steps\"\n",
      "Safe watching!\n"
     ]
    }
   ],
   "source": [
    "text = input(\"Enter a string: \").lower()\n",
    "\n",
    "words_to_check = [\"anime\", \"meme\", \"vines\", \"roasts\", \"danny devito\"]\n",
    "index = 0\n",
    "\n",
    "while index < len(words_to_check):\n",
    "    word = words_to_check[index]\n",
    "    if word in text:\n",
    "        print(\"NO!\")\n",
    "        break\n",
    "    index += 1\n",
    "else:\n",
    "    print(\"Safe watching!\")"
   ]
  }
 ],
 "metadata": {
  "kernelspec": {
   "display_name": "Python 3 (ipykernel)",
   "language": "python",
   "name": "python3"
  },
  "language_info": {
   "codemirror_mode": {
    "name": "ipython",
    "version": 3
   },
   "file_extension": ".py",
   "mimetype": "text/x-python",
   "name": "python",
   "nbconvert_exporter": "python",
   "pygments_lexer": "ipython3",
   "version": "3.11.5"
  }
 },
 "nbformat": 4,
 "nbformat_minor": 5
}
